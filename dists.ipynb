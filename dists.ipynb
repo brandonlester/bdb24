{
 "cells": [
  {
   "cell_type": "code",
   "execution_count": null,
   "metadata": {},
   "outputs": [],
   "source": [
    "import os\n",
    "from pathlib import Path\n",
    "import pandas as pd\n",
    "import numpy as np\n",
    "import matplotlib.pyplot as plt\n",
    "import seaborn as sns\n",
    "from scipy.spatial.distance import cdist\n",
    "from local_functions import *\n",
    "import math"
   ]
  },
  {
   "cell_type": "code",
   "execution_count": null,
   "metadata": {},
   "outputs": [],
   "source": [
    "main_dir = Path(os.getcwd())\n",
    "data_path = main_dir / \"data\""
   ]
  },
  {
   "cell_type": "code",
   "execution_count": null,
   "metadata": {},
   "outputs": [],
   "source": [
    "df_players = pd.read_csv(f'{data_path}/players.csv')\n",
    "df_games = pd.read_csv(f'{data_path}/games.csv')\n",
    "df_tackles = pd.read_csv(f'{data_path}/tackles.csv')\n",
    "df_plays = pd.read_csv(f'{data_path}/plays.csv')\n",
    "df_tracking = pd.read_csv(f'{data_path}/tracking_week_5.csv')"
   ]
  },
  {
   "cell_type": "code",
   "execution_count": null,
   "metadata": {},
   "outputs": [],
   "source": [
    "# ex_gameId = df_games[(df_games['homeTeamAbbr']=='BAL') & (df_games['visitorTeamAbbr']=='CIN')]['gameId'].iloc[0]\n",
    "\n",
    "# ex_playId = df_plays[(df_plays['gameId'] == ex_gameId) & \n",
    "#                      (df_plays['quarter'] == 1) &\n",
    "#                      (df_plays['gameClock'] == '12:57')]['playId'].iloc[0]\n",
    "\n",
    "# ex_game_play_id = str(ex_gameId) + '_' + str(ex_playId)\n",
    "\n",
    "ex_game_play_id = '2022100901_117'"
   ]
  },
  {
   "cell_type": "code",
   "execution_count": null,
   "metadata": {},
   "outputs": [],
   "source": [
    "fid_cols = ['gameId', 'playId', 'frameId']"
   ]
  },
  {
   "cell_type": "markdown",
   "metadata": {},
   "source": [
    "# Standardize Tracking Data"
   ]
  },
  {
   "cell_type": "code",
   "execution_count": null,
   "metadata": {},
   "outputs": [],
   "source": [
    "# Add player positions to tracking data\n",
    "df_tracking = df_tracking.merge(df_players.loc[:, ['nflId', 'position']], on='nflId', how='left')\n",
    "\n",
    "# Create game/play ID for easier filtering\n",
    "df_tracking['game_play_id'] = df_tracking['gameId'].astype(str) + \"_\" + df_tracking['playId'].astype(str)\n",
    "\n",
    "# Add indicator column for the ball carrier in the tracking data\n",
    "df_tracking = df_tracking.merge(df_plays.loc[:, ['gameId', 'playId', 'ballCarrierId']], left_on=['gameId','playId','nflId'], right_on=['gameId','playId','ballCarrierId'], how='left')\n",
    "df_tracking['is_ballcarrier'] = df_tracking['nflId'] == df_tracking['ballCarrierId']"
   ]
  },
  {
   "cell_type": "code",
   "execution_count": null,
   "metadata": {},
   "outputs": [],
   "source": [
    "# Standardize x/y coordinates - all plays going to the right\n",
    "df_tracking['x_std'] = np.where(df_tracking['playDirection'] == 'left', 120 - df_tracking['x'], df_tracking['x'])\n",
    "df_tracking['y_std'] = np.where(df_tracking['playDirection'] == 'left', 160/3 - df_tracking['y'], df_tracking['y'])"
   ]
  },
  {
   "cell_type": "code",
   "execution_count": null,
   "metadata": {},
   "outputs": [],
   "source": [
    "# Standardize player orientation - all plays going to the right\n",
    "df_tracking['o_std'] = np.where(df_tracking['playDirection'] == 'left', df_tracking['o'] + 180, df_tracking['o'])\n",
    "df_tracking['o_std'] = np.where(df_tracking['o_std'] > 360, df_tracking['o_std'] - 360, df_tracking['o_std'])\n",
    "df_tracking['o_rad'] = np.radians(df_tracking['o_std'])\n",
    "df_tracking['o_x'] = np.sin(df_tracking['o_rad'])\n",
    "df_tracking['o_y'] = np.cos(df_tracking['o_rad'])"
   ]
  },
  {
   "cell_type": "code",
   "execution_count": null,
   "metadata": {},
   "outputs": [],
   "source": [
    "# Standardize player movement direction - all plays going to the right\n",
    "df_tracking['dir_std'] = np.where(df_tracking['playDirection'] == 'left', df_tracking['dir'] + 180, df_tracking['dir'])\n",
    "df_tracking['dir_std'] = np.where(df_tracking['dir_std'] > 360, df_tracking['dir_std'] - 360, df_tracking['dir_std'])\n",
    "df_tracking['dir_rad'] = np.radians(df_tracking['dir_std'])\n",
    "df_tracking['dir_x'] = np.sin(df_tracking['dir_rad'])\n",
    "df_tracking['dir_y'] = np.cos(df_tracking['dir_rad'])"
   ]
  },
  {
   "cell_type": "code",
   "execution_count": null,
   "metadata": {},
   "outputs": [],
   "source": [
    "# Create columns for speed and acceleration in x/y direction\n",
    "\n",
    "df_tracking['v_x'] = df_tracking['dir_x'] * df_tracking['s']\n",
    "df_tracking['v_y'] = df_tracking['dir_y'] * df_tracking['s']\n",
    "\n",
    "df_tracking['a_x'] = df_tracking['dir_x'] * df_tracking['a']\n",
    "df_tracking['a_y'] = df_tracking['dir_y'] * df_tracking['a']\n",
    "\n",
    "df_tracking['v_theta'] = np.arctan(df_tracking['v_y'] / df_tracking['v_x'])\n",
    "df_tracking['v_theta'] = np.where(df_tracking['v_theta'].isnull(), 0, df_tracking['v_theta'])"
   ]
  },
  {
   "cell_type": "code",
   "execution_count": null,
   "metadata": {},
   "outputs": [],
   "source": [
    "# Join ball carrier tracking to total tracking - allows for calculating distance, speed, etc of player X relative to the ball carrier\n",
    "df_bc_frames = df_tracking[df_tracking['is_ballcarrier']].drop_duplicates(['gameId','playId','frameId','nflId']).loc[:,['gameId', 'playId', 'frameId', 'nflId', 'x_std', 'y_std', 'dir_std', 'o_std', 's', 'a']].reset_index(drop=True)\n",
    "df_tracking = df_tracking.merge(df_bc_frames.drop('nflId', axis=1), on = ['gameId','playId','frameId'], how = 'inner', suffixes = ('', '_bc'))"
   ]
  },
  {
   "cell_type": "markdown",
   "metadata": {},
   "source": [
    "# Field Control"
   ]
  },
  {
   "cell_type": "code",
   "execution_count": null,
   "metadata": {},
   "outputs": [],
   "source": [
    "# Calculate player influence radius\n",
    "s_max = 13\n",
    "delta_t = 0.5\n",
    "min_radius = 4\n",
    "max_radius = 10\n",
    "radius_range = max_radius - min_radius\n",
    "max_dist_from_ball = 20\n",
    "\n",
    "df_tracking['dist_to_bc'] = euclidean_distance(df_tracking['x_std'], df_tracking['y_std'], df_tracking['x_std_bc'], df_tracking['y_std_bc'])\n",
    "df_tracking['s_ratio'] = df_tracking['s'] / s_max\n",
    "df_tracking['x_next'] = df_tracking['x_std'] + df_tracking['v_x'] * delta_t\n",
    "df_tracking['y_next'] = df_tracking['y_std'] + df_tracking['v_y'] * delta_t\n",
    "df_tracking['radius_of_influence'] = min_radius + np.power(df_tracking['dist_to_bc'],3) * radius_range / max_dist_from_ball\n",
    "df_tracking['radius_of_influence'] = np.where(df_tracking['radius_of_influence'] > max_radius, max_radius, df_tracking['radius_of_influence'])"
   ]
  },
  {
   "cell_type": "code",
   "execution_count": null,
   "metadata": {},
   "outputs": [],
   "source": [
    "#df_tracking.loc[:, ['frameId', 'nflId', 'x_std', 'y_std', 'x_std_bc', 'y_std_bc', 's', 'v_theta', 'v_x', 'v_y', 's_ratio', 'x_next', 'y_next', 'radius_of_influence']]"
   ]
  },
  {
   "cell_type": "code",
   "execution_count": null,
   "metadata": {},
   "outputs": [],
   "source": [
    "df_field_grid = create_field_grid()"
   ]
  },
  {
   "cell_type": "code",
   "execution_count": null,
   "metadata": {},
   "outputs": [],
   "source": [
    "df_example_tracking = df_tracking[df_tracking['game_play_id'] == ex_game_play_id].reset_index(drop=True)\n",
    "df_example_for_control = df_example_tracking[df_example_tracking['nflId'].notnull()].loc[:,['gameId', 'playId', 'frameId', 'nflId', 'club', 'x_next', 'y_next', 'v_theta', 'radius_of_influence', 's_ratio']].reset_index(drop=True)"
   ]
  },
  {
   "cell_type": "code",
   "execution_count": null,
   "metadata": {},
   "outputs": [],
   "source": [
    "player_frame_influences = []\n",
    "#df_control = pd.DataFrame()\n",
    "\n",
    "for index, row in df_example_for_control.iterrows():\n",
    "    #print(index)\n",
    "    \n",
    "    row_influence = compute_player_zoi(row, df_field_grid)\n",
    "    player_frame_influences.append(row_influence)\n",
    "\n",
    "    #df_influence = compute_player_zoi(row)\n",
    "    #df_control = pd.concat([df_control, df_influence])\n",
    "\n",
    "df_example_for_control['influence'] = player_frame_influences"
   ]
  },
  {
   "cell_type": "code",
   "execution_count": null,
   "metadata": {},
   "outputs": [],
   "source": []
  },
  {
   "cell_type": "code",
   "execution_count": null,
   "metadata": {},
   "outputs": [],
   "source": [
    "df_example_for_control = df_example_for_control.merge(df_games.loc[:,['gameId', 'homeTeamAbbr']], on = 'gameId')\n"
   ]
  },
  {
   "cell_type": "code",
   "execution_count": null,
   "metadata": {},
   "outputs": [],
   "source": [
    "df_control_explode = df_example_for_control.explode('influence')\n",
    "df_control_explode['influence'] = df_control_explode['influence'].astype('float')"
   ]
  },
  {
   "cell_type": "code",
   "execution_count": null,
   "metadata": {},
   "outputs": [],
   "source": [
    "df_control_explode.influence.hist()"
   ]
  },
  {
   "cell_type": "code",
   "execution_count": null,
   "metadata": {},
   "outputs": [],
   "source": [
    "c_field_grid = pd.DataFrame()\n",
    "\n",
    "for i in range(len(df_example_for_control.index)):\n",
    "    c_field_grid = pd.concat([c_field_grid, df_field_grid])\n"
   ]
  },
  {
   "cell_type": "code",
   "execution_count": null,
   "metadata": {},
   "outputs": [],
   "source": [
    "df_control_all = pd.concat([df_control_explode.reset_index(drop=True), c_field_grid.reset_index(drop=True)], axis=1)"
   ]
  },
  {
   "cell_type": "code",
   "execution_count": null,
   "metadata": {},
   "outputs": [],
   "source": [
    "df_bc_frames"
   ]
  },
  {
   "cell_type": "code",
   "execution_count": null,
   "metadata": {},
   "outputs": [],
   "source": [
    "bc_radius = 3\n",
    "\n",
    "df_bc_frames['bc_xr_min'] = df_bc_frames['x_std'] - bc_radius\n",
    "df_bc_frames['bc_xr_max'] = df_bc_frames['x_std'] + bc_radius\n",
    "\n",
    "df_bc_frames['bc_yr_min'] = df_bc_frames['y_std'] - bc_radius\n",
    "df_bc_frames['bc_yr_max'] = df_bc_frames['y_std'] + bc_radius\n",
    "\n",
    "bc_radius_cols = ['bc_xr_min', 'bc_xr_max', 'bc_yr_min', 'bc_yr_max']"
   ]
  },
  {
   "cell_type": "code",
   "execution_count": null,
   "metadata": {},
   "outputs": [],
   "source": []
  },
  {
   "cell_type": "code",
   "execution_count": null,
   "metadata": {},
   "outputs": [],
   "source": [
    "df_control_all = df_control_all.merge(df_bc_frames.loc[:,fid_cols + bc_radius_cols], on = fid_cols)"
   ]
  },
  {
   "cell_type": "code",
   "execution_count": null,
   "metadata": {},
   "outputs": [],
   "source": [
    "df_control_bc_radius = df_control_all[(df_control_all['x'] >= df_control_all['bc_xr_min']) &\n",
    "               (df_control_all['x'] <= df_control_all['bc_xr_max']) &\n",
    "               (df_control_all['y'] >= df_control_all['bc_yr_min']) &\n",
    "               (df_control_all['y'] <= df_control_all['bc_yr_max'])]"
   ]
  },
  {
   "cell_type": "code",
   "execution_count": null,
   "metadata": {},
   "outputs": [],
   "source": [
    "df_control_bc_inf_agg = df_control_bc_radius.groupby(fid_cols + ['nflId']).agg({'influence' : 'mean'}).reset_index()"
   ]
  },
  {
   "cell_type": "code",
   "execution_count": null,
   "metadata": {},
   "outputs": [],
   "source": [
    "scale_column_to_100(dataframe = df_control_bc_inf_agg, column_name = 'influence')"
   ]
  },
  {
   "cell_type": "code",
   "execution_count": null,
   "metadata": {},
   "outputs": [],
   "source": [
    "df_control_all['influence'] = np.where(df_control_all['club'] == df_control_all['homeTeamAbbr'], -1 * df_control_all['influence'], df_control_all['influence'])\n",
    "df_control_agg = df_control_all.groupby(['gameId', 'playId', 'frameId', 'club', 'x', 'y']).agg({'influence' : 'sum'}).reset_index().rename(columns={'influence' : 'control'})\n",
    "df_control_agg['control'] = 1 / (1 + np.exp(df_control_agg['control']))"
   ]
  },
  {
   "cell_type": "code",
   "execution_count": null,
   "metadata": {},
   "outputs": [],
   "source": [
    "df_control_1frame = df_control_agg[(df_control_agg['frameId']==75)]# & (df_control_agg['club']=='PIT')]\n",
    "\n",
    "from plotnine import ggplot, geom_raster, scale_fill_gradient2, aes\n",
    "\n",
    "# Assuming df_colors and game_ are already defined in your Python script\n",
    "\n",
    "away_team = 'BUF'\n",
    "away_color = 'blue'\n",
    "\n",
    "home_team = 'PIT'\n",
    "home_color = 'black'\n",
    "\n",
    "\n",
    "play_frames = (\n",
    "    ggplot()\n",
    "    + geom_raster(\n",
    "        data=df_control_1frame,\n",
    "        mapping=aes(x='x', y='y', fill='control'),\n",
    "        alpha=0.7,\n",
    "        interpolate=True\n",
    "    )\n",
    "    + scale_fill_gradient2(\n",
    "        #low=df_colors['away_1'],\n",
    "        #high=df_colors['home_1'],\n",
    "        low= away_color,\n",
    "        high= home_color,\n",
    "        mid=\"white\",\n",
    "        midpoint=0.5,\n",
    "        name=\"Team Field Control\",\n",
    "        limits=[0, 1],\n",
    "        breaks=[0, 1],\n",
    "        #labels=[game_['visitorTeamAbbr'], game_['homeTeamAbbr']]\n",
    "        labels=[away_team, home_team]\n",
    "    )\n",
    ")\n",
    "\n",
    "# You can then show the plot using play_frames\n",
    "print(play_frames)\n"
   ]
  },
  {
   "cell_type": "markdown",
   "metadata": {},
   "source": [
    "# Angle Diffs"
   ]
  },
  {
   "cell_type": "code",
   "execution_count": null,
   "metadata": {},
   "outputs": [],
   "source": [
    "# Calculate the orientation of each player relative to the ball carrier\n",
    "df_tracking = calc_angle_diff(input_df = df_tracking, \n",
    "                              xc = 'x_std', \n",
    "                              yc = 'y_std', \n",
    "                              anglec = 'o', \n",
    "                              xc_ref = 'x_std_bc', \n",
    "                              yc_ref = 'y_std_bc', \n",
    "                              new_name_suffix = 'bc')"
   ]
  },
  {
   "cell_type": "code",
   "execution_count": null,
   "metadata": {},
   "outputs": [],
   "source": [
    "# Calculate the movement direction of each player relative to the ball carrier\n",
    "df_tracking = calc_angle_diff(input_df = df_tracking, \n",
    "                              xc = 'x_std', \n",
    "                              yc = 'y_std', \n",
    "                              anglec = 'dir', \n",
    "                              xc_ref = 'x_std_bc', \n",
    "                              yc_ref = 'y_std_bc', \n",
    "                              new_name_suffix = 'bc')"
   ]
  },
  {
   "cell_type": "code",
   "execution_count": null,
   "metadata": {},
   "outputs": [],
   "source": [
    "# Calculate the point where a blocker projects onto a defender's path to the ball carrier\n",
    "\n",
    "target = (1,6)\n",
    "defender = (3,10)\n",
    "blocker = (4,7)\n",
    "\n",
    "blocker_projection = perpendicular_projection(blocker, line_equation(defender, target))"
   ]
  },
  {
   "cell_type": "code",
   "execution_count": null,
   "metadata": {},
   "outputs": [],
   "source": [
    "x, y = 37, 16\n",
    "xd = 7\n",
    "yd = 3\n",
    "facing_angle = 200  # in degrees\n",
    "maxX = 120\n",
    "maxY = 53.3\n",
    "minX = 0\n",
    "minY = 0\n",
    "\n",
    "\n",
    "# Calculate potential blocker region for a defender based on their orientation angle\n",
    "triangle_points = project_triangle(x, y, facing_angle, xd, yd, maxX, maxY, minX, minY)\n",
    "\n",
    "print(triangle_points)"
   ]
  },
  {
   "cell_type": "code",
   "execution_count": null,
   "metadata": {},
   "outputs": [],
   "source": [
    "# Determine if an offensive player is a potential blocker\n",
    "point_to_check = (32, 15)\n",
    "\n",
    "is_point_in_triangle(point_to_check, *triangle_points)"
   ]
  },
  {
   "cell_type": "code",
   "execution_count": null,
   "metadata": {},
   "outputs": [],
   "source": [
    "[(37,16)]+triangle_points"
   ]
  },
  {
   "cell_type": "code",
   "execution_count": null,
   "metadata": {},
   "outputs": [],
   "source": [
    "# Plotting\n",
    "triangle_points_plot = [(37,16)]+triangle_points\n",
    "\n",
    "points_x, points_y = zip(*triangle_points_plot + [triangle_points_plot[0]])  # Close the triangle\n",
    "\n",
    "plt.plot(points_x, points_y, marker='o', linestyle='-', color='b', label='Projected Triangle')\n",
    "plt.scatter(32,15)"
   ]
  },
  {
   "cell_type": "markdown",
   "metadata": {},
   "source": [
    "# Play Animation"
   ]
  },
  {
   "cell_type": "code",
   "execution_count": null,
   "metadata": {},
   "outputs": [],
   "source": [
    "ex_game_play_id = '2022100913_172'\n",
    "#ex_game_play_id = '2022100913_55'"
   ]
  },
  {
   "cell_type": "code",
   "execution_count": null,
   "metadata": {},
   "outputs": [],
   "source": [
    "animate_tracking_data(tracking_df = df_tracking, \n",
    "                      id_game_play = ex_game_play_id,\n",
    "                      x_col = 'x_std',\n",
    "                      y_col = 'y_std',\n",
    "                      dir_col = 'dir_std',\n",
    "                      dir_arrow_metric = 's',\n",
    "                      o_col = 'o_std')"
   ]
  }
 ],
 "metadata": {
  "kernelspec": {
   "display_name": "Python 3",
   "language": "python",
   "name": "python3"
  },
  "language_info": {
   "codemirror_mode": {
    "name": "ipython",
    "version": 3
   },
   "file_extension": ".py",
   "mimetype": "text/x-python",
   "name": "python",
   "nbconvert_exporter": "python",
   "pygments_lexer": "ipython3",
   "version": "3.11.6"
  }
 },
 "nbformat": 4,
 "nbformat_minor": 2
}
