{
 "cells": [
  {
   "cell_type": "markdown",
   "metadata": {},
   "source": [
    "# Setup"
   ]
  },
  {
   "cell_type": "code",
   "execution_count": 1,
   "metadata": {},
   "outputs": [],
   "source": [
    "import os\n",
    "from pathlib import Path\n",
    "import pandas as pd\n",
    "import numpy as np\n",
    "import matplotlib.pyplot as plt\n",
    "import seaborn as sns\n",
    "from scipy.spatial.distance import cdist\n",
    "from local_functions import *\n",
    "import math\n",
    "import re\n",
    "import time"
   ]
  },
  {
   "cell_type": "code",
   "execution_count": 2,
   "metadata": {},
   "outputs": [],
   "source": [
    "start_time = time.time()"
   ]
  },
  {
   "cell_type": "code",
   "execution_count": 3,
   "metadata": {},
   "outputs": [],
   "source": [
    "main_dir = Path(os.getcwd())\n",
    "data_path = main_dir / \"data\"\n",
    "processed_data_path = data_path / 'processed'"
   ]
  },
  {
   "cell_type": "code",
   "execution_count": 4,
   "metadata": {},
   "outputs": [],
   "source": [
    "df_players = pd.read_csv(f'{data_path}/players.csv')\n",
    "df_games = pd.read_csv(f'{data_path}/games.csv')\n",
    "df_tackles = pd.read_csv(f'{data_path}/tackles.csv')\n",
    "df_plays = pd.read_csv(f'{data_path}/plays.csv')\n",
    "#df_tracking = pd.read_csv(f'{data_path}/tracking_week_5.csv')"
   ]
  },
  {
   "cell_type": "code",
   "execution_count": 5,
   "metadata": {},
   "outputs": [],
   "source": [
    "data_files = os.listdir(data_path)\n",
    "\n",
    "matching_files = [file for file in data_files if file.startswith('tracking')]\n"
   ]
  },
  {
   "cell_type": "code",
   "execution_count": 6,
   "metadata": {},
   "outputs": [],
   "source": [
    "df_tracking = pd.DataFrame()\n",
    "for file in matching_files:\n",
    "    i_df = pd.read_csv(data_path / file)\n",
    "    df_tracking = pd.concat([df_tracking, i_df])"
   ]
  },
  {
   "cell_type": "code",
   "execution_count": null,
   "metadata": {},
   "outputs": [],
   "source": [
    "# Example play from Logan Wilson highlights\n",
    "ex_gameId = df_games[(df_games['homeTeamAbbr']=='BAL') & (df_games['visitorTeamAbbr']=='CIN')]['gameId'].iloc[0]\n",
    "\n",
    "ex_playId = df_plays[(df_plays['gameId'] == ex_gameId) & \n",
    "                     (df_plays['quarter'] == 1) &\n",
    "                     (df_plays['gameClock'] == '12:57')]['playId'].iloc[0]\n",
    "\n",
    "ex_gameId2 = 2022100901 # Additional game to work with in development\n",
    "\n",
    "ex_games = [ex_gameId, ex_gameId2]\n",
    "\n",
    "#df_tracking = df_tracking[df_tracking['gameId'].isin(ex_games)]"
   ]
  },
  {
   "cell_type": "code",
   "execution_count": null,
   "metadata": {},
   "outputs": [],
   "source": [
    "fid_cols = ['gameId', 'playId', 'frameId']\n",
    "playerframe_cols = fid_cols + ['nflId']"
   ]
  },
  {
   "cell_type": "markdown",
   "metadata": {},
   "source": [
    "# Standardize Tracking Data"
   ]
  },
  {
   "cell_type": "code",
   "execution_count": null,
   "metadata": {},
   "outputs": [],
   "source": [
    "# Add player positions to tracking data\n",
    "df_tracking = df_tracking.merge(df_players.loc[:, ['nflId', 'position']], on='nflId', how='left')\n",
    "\n",
    "#Identify offense and defensive players\n",
    "df_tracking = df_tracking.merge(df_plays.loc[:, ['gameId', 'playId', 'possessionTeam']], on=['gameId', 'playId'], how='left')\n",
    "df_tracking['on_offense'] = df_tracking['club'] == df_tracking['possessionTeam']\n",
    "\n",
    "\n",
    "# Create game/play ID for easier filtering\n",
    "df_tracking['game_play_id'] = df_tracking['gameId'].astype(str) + \"_\" + df_tracking['playId'].astype(str)\n",
    "\n",
    "# Add indicator column for the ball carrier in the tracking data\n",
    "df_tracking = df_tracking.merge(df_plays.loc[:, ['gameId', 'playId', 'ballCarrierId']], left_on=['gameId','playId','nflId'], right_on=['gameId','playId','ballCarrierId'], how='left')\n",
    "df_tracking['is_ballcarrier'] = df_tracking['nflId'] == df_tracking['ballCarrierId']"
   ]
  },
  {
   "cell_type": "code",
   "execution_count": null,
   "metadata": {},
   "outputs": [],
   "source": [
    "# Standardize x/y coordinates - all plays going to the right\n",
    "df_tracking['x_std'] = np.where(df_tracking['playDirection'] == 'left', 120 - df_tracking['x'], df_tracking['x'])\n",
    "df_tracking['y_std'] = np.where(df_tracking['playDirection'] == 'left', 160/3 - df_tracking['y'], df_tracking['y'])"
   ]
  },
  {
   "cell_type": "code",
   "execution_count": null,
   "metadata": {},
   "outputs": [],
   "source": [
    "# Standardize player orientation - all plays going to the right\n",
    "df_tracking['o_std'] = np.where(df_tracking['playDirection'] == 'left', df_tracking['o'] + 180, df_tracking['o'])\n",
    "df_tracking['o_std'] = np.where(df_tracking['o_std'] > 360, df_tracking['o_std'] - 360, df_tracking['o_std'])\n",
    "df_tracking['o_rad'] = np.radians(df_tracking['o_std'])\n",
    "df_tracking['o_x'] = np.sin(df_tracking['o_rad'])\n",
    "df_tracking['o_y'] = np.cos(df_tracking['o_rad'])"
   ]
  },
  {
   "cell_type": "code",
   "execution_count": null,
   "metadata": {},
   "outputs": [],
   "source": [
    "# Standardize player movement direction - all plays going to the right\n",
    "df_tracking['dir_std'] = np.where(df_tracking['playDirection'] == 'left', df_tracking['dir'] + 180, df_tracking['dir'])\n",
    "df_tracking['dir_std'] = np.where(df_tracking['dir_std'] > 360, df_tracking['dir_std'] - 360, df_tracking['dir_std'])\n",
    "df_tracking['dir_rad'] = np.radians(df_tracking['dir_std'])\n",
    "df_tracking['dir_x'] = np.sin(df_tracking['dir_rad'])\n",
    "df_tracking['dir_y'] = np.cos(df_tracking['dir_rad'])"
   ]
  },
  {
   "cell_type": "code",
   "execution_count": null,
   "metadata": {},
   "outputs": [],
   "source": [
    "# Create columns for speed and acceleration in x/y direction\n",
    "df_tracking['v_x'] = df_tracking['dir_x'] * df_tracking['s']\n",
    "df_tracking['v_y'] = df_tracking['dir_y'] * df_tracking['s']\n",
    "\n",
    "df_tracking['a_x'] = df_tracking['dir_x'] * df_tracking['a']\n",
    "df_tracking['a_y'] = df_tracking['dir_y'] * df_tracking['a']\n",
    "\n",
    "df_tracking['v_theta'] = np.arctan(df_tracking['v_y'] / df_tracking['v_x'])\n",
    "df_tracking['v_theta'] = np.where(df_tracking['v_theta'].isnull(), 0, df_tracking['v_theta'])"
   ]
  },
  {
   "cell_type": "markdown",
   "metadata": {},
   "source": [
    "# Features Relative to Ball Carrier"
   ]
  },
  {
   "cell_type": "code",
   "execution_count": null,
   "metadata": {},
   "outputs": [],
   "source": [
    "# Join ball carrier tracking to total tracking - allows for calculating distance, speed, etc of player X relative to the ball carrier\n",
    "df_bc_frames = df_tracking[df_tracking['is_ballcarrier']].drop_duplicates(['gameId','playId','frameId','nflId']).loc[:,['gameId', 'playId', 'frameId', 'nflId', 'x_std', 'y_std', 'dir_std', 'o_std', 's', 'a']].reset_index(drop=True)\n",
    "\n",
    "bc_radius = 3\n",
    "\n",
    "df_bc_frames['bc_xr_min'] = df_bc_frames['x_std'] - bc_radius\n",
    "df_bc_frames['bc_xr_max'] = df_bc_frames['x_std'] + bc_radius\n",
    "\n",
    "df_bc_frames['bc_yr_min'] = df_bc_frames['y_std'] - bc_radius\n",
    "df_bc_frames['bc_yr_max'] = df_bc_frames['y_std'] + bc_radius\n",
    "\n",
    "bc_radius_cols = ['bc_xr_min', 'bc_xr_max', 'bc_yr_min', 'bc_yr_max']"
   ]
  },
  {
   "cell_type": "code",
   "execution_count": null,
   "metadata": {},
   "outputs": [],
   "source": [
    "df_tracking = df_tracking.merge(df_bc_frames.drop('nflId', axis=1), on = ['gameId','playId','frameId'], how = 'inner', suffixes = ('', '_bc'))"
   ]
  },
  {
   "cell_type": "code",
   "execution_count": null,
   "metadata": {},
   "outputs": [],
   "source": [
    "# Calculate the orientation of each player relative to the ball carrier\n",
    "df_tracking = calc_angle_diff(input_df = df_tracking, \n",
    "                              xc = 'x_std', \n",
    "                              yc = 'y_std', \n",
    "                              anglec = 'o', \n",
    "                              xc_ref = 'x_std_bc', \n",
    "                              yc_ref = 'y_std_bc', \n",
    "                              new_name_suffix = 'bc')\n",
    "\n",
    "# Calculate the movement direction of each player relative to the ball carrier\n",
    "df_tracking = calc_angle_diff(input_df = df_tracking, \n",
    "                              xc = 'x_std', \n",
    "                              yc = 'y_std', \n",
    "                              anglec = 'dir', \n",
    "                              xc_ref = 'x_std_bc', \n",
    "                              yc_ref = 'y_std_bc', \n",
    "                              new_name_suffix = 'bc')"
   ]
  },
  {
   "cell_type": "code",
   "execution_count": null,
   "metadata": {},
   "outputs": [],
   "source": [
    "df_tracking.to_parquet(processed_data_path / 'tracking.parquet', engine='fastparquet')"
   ]
  },
  {
   "cell_type": "markdown",
   "metadata": {},
   "source": [
    "# Calculate Distances"
   ]
  },
  {
   "cell_type": "code",
   "execution_count": null,
   "metadata": {},
   "outputs": [],
   "source": [
    "# Define positions on each side of the ball\n",
    "offense_positions = ['QB', 'RB', 'FB', 'WR', 'TE', 'T', 'G', 'C', 'LS']\n",
    "defense_positions = ['DE', 'NT', 'DT', 'ILB', 'OLB', 'MLB', 'CB', 'DB', 'FS', 'SS']\n",
    "\n",
    "# Check positions are account for\n",
    "# player_positions = list(df_players['position'].unique())\n",
    "# player_positions.sort()\n",
    "# all_positions = offense_positions + defense_positions\n",
    "# all_positions.sort()\n",
    "# player_positions == all_positions"
   ]
  },
  {
   "cell_type": "code",
   "execution_count": null,
   "metadata": {},
   "outputs": [],
   "source": [
    "df_tracking_4dists = df_tracking.loc[:, ['gameId', 'playId', 'frameId', 'nflId', 'position', 'x_std', 'y_std']].copy()\n",
    "\n",
    "# new dataframe for data \n",
    "df_dists = pd.DataFrame()\n",
    "for gid in df_tracking_4dists['gameId'].unique():\n",
    "#     subset data down to one game\n",
    "    game = df_tracking_4dists.loc[df_tracking_4dists['gameId']==gid].copy()\n",
    "    \n",
    "    for pid in game['playId'].unique():\n",
    "        # subset data down to one play\n",
    "        play = game.loc[game['playId']==pid].copy()\n",
    "\n",
    "        for fid in play['frameId'].unique():\n",
    "            # subset data down to one frame \n",
    "            frame = play.loc[play['frameId']==fid].copy()\n",
    "\n",
    "            # make unique positions, as to not duplicate columns based on player position\n",
    "            frame['pos_unique'] = (frame['position']\n",
    "                                .add(frame\n",
    "                                      .groupby('position', as_index=False)\n",
    "                                      .cumcount()\n",
    "                                      .add(1)\n",
    "                                      .dropna()\n",
    "                                      .astype(str)\n",
    "                                      .str.replace('.0','', regex=False)\n",
    "                                      .str.replace('0','', regex=False)))\n",
    "\n",
    "            # calc distances \n",
    "            _df = (pd\n",
    "                 .DataFrame(cdist(frame.loc[:, ['x_std', 'y_std']], \n",
    "                                  frame.loc[:, ['x_std', 'y_std']]), \n",
    "                            index=frame['nflId'], \n",
    "                            columns=frame['pos_unique'].fillna('football')))\n",
    "\n",
    "            # reset index to pop out nflId into its own column\n",
    "            _df = _df.reset_index()\n",
    "\n",
    "            # merge new distance values onto original dataframe\n",
    "            frame = frame.merge(_df)\n",
    "\n",
    "            # concatenate new results into the output dataframe \n",
    "            df_dists = pd.concat([df_dists,frame])"
   ]
  },
  {
   "cell_type": "code",
   "execution_count": null,
   "metadata": {},
   "outputs": [],
   "source": [
    "df_dists.to_parquet(processed_data_path / 'dists.parquet', engine='fastparquet')"
   ]
  },
  {
   "cell_type": "code",
   "execution_count": null,
   "metadata": {},
   "outputs": [],
   "source": [
    "# Remove football rows and go from wide to long data\n",
    "# Each row will be an observation of player A and their distance from player B\n",
    "df_dists_long = df_dists[df_dists['nflId'].notnull()].drop(['x_std', 'y_std', 'football'],axis=1).melt(id_vars=fid_cols+['nflId', 'position', 'pos_unique'], var_name = 'x_pos_unique', value_name = 'dist')"
   ]
  },
  {
   "cell_type": "code",
   "execution_count": null,
   "metadata": {},
   "outputs": [],
   "source": [
    "# Filter out rows relating to the player to themselves\n",
    "df_dists_long = df_dists_long[df_dists_long['pos_unique'] != df_dists_long['x_pos_unique']]\n",
    "\n",
    "# Filter out rows relating to a unique position not present on the given play\n",
    "df_dists_long = df_dists_long[df_dists_long['dist'].notnull()].reset_index(drop=True)"
   ]
  },
  {
   "cell_type": "code",
   "execution_count": null,
   "metadata": {},
   "outputs": [],
   "source": [
    "# Extract the raw player position for the unique position column\n",
    "df_dists_long['x_position'] = extract_position_vectorized(df_dists_long['x_pos_unique'])"
   ]
  },
  {
   "cell_type": "code",
   "execution_count": null,
   "metadata": {},
   "outputs": [],
   "source": [
    "# Define side of the ball for both the reference player and target player\n",
    "df_dists_long['side'] = np.where(df_dists_long['position'].isin(offense_positions), 'offense', 'defense')\n",
    "df_dists_long['x_side'] = np.where(df_dists_long['x_position'].isin(offense_positions), 'offense', 'defense')\n",
    "df_dists_long['same_side'] = df_dists_long['side'] == df_dists_long['x_side']"
   ]
  },
  {
   "cell_type": "code",
   "execution_count": null,
   "metadata": {},
   "outputs": [],
   "source": [
    "# Sort and assign ID's for each target player by side of ball and distance\n",
    "# Each player within 1 frame will have 21 rows\n",
    "# x1-x11 for each player on the other team / side of the ball in order of distance\n",
    "# y1-y10 for each player on their team / side of the ball in order of distance\n",
    "\n",
    "# Note: the loop calculating distances from each other player based on their standard position and aggregating in this way may miss unique plays that have a players on non-standard sides of the ball\n",
    "# For example, a DL coming in as a FB on a goal line play won't be 100% accurate with this current method.\n",
    "\n",
    "df_dists_long = df_dists_long.sort_values(playerframe_cols + ['same_side', 'dist']).reset_index(drop=True)\n",
    "df_dists_long['x_id'] = df_dists_long.groupby(playerframe_cols).cumcount() + 1\n",
    "df_dists_long['x_id'] = np.where(df_dists_long['same_side'], df_dists_long['x_id']-11, df_dists_long['x_id'])\n",
    "df_dists_long['x_id'] = np.where(~df_dists_long['same_side'], df_dists_long['x_id'].apply(lambda x: 'x' + str(x)), df_dists_long['x_id'].apply(lambda x: 'y' + str(x)))"
   ]
  },
  {
   "cell_type": "code",
   "execution_count": null,
   "metadata": {},
   "outputs": [],
   "source": [
    "#df_dists_long.head(25)"
   ]
  },
  {
   "cell_type": "code",
   "execution_count": null,
   "metadata": {},
   "outputs": [],
   "source": [
    "df_dists_processed = df_dists_long.loc[:, playerframe_cols + ['x_id', 'dist']].pivot(index = playerframe_cols, columns = 'x_id', values = 'dist').reset_index()"
   ]
  },
  {
   "cell_type": "code",
   "execution_count": null,
   "metadata": {},
   "outputs": [],
   "source": [
    "df_dists_processed.to_parquet(processed_data_path / 'dists_processed.parquet', engine='fastparquet')"
   ]
  },
  {
   "cell_type": "markdown",
   "metadata": {},
   "source": [
    "# Field Control"
   ]
  },
  {
   "cell_type": "code",
   "execution_count": null,
   "metadata": {},
   "outputs": [],
   "source": [
    "# Calculate player influence radius\n",
    "s_max = 13\n",
    "delta_t = 0.5\n",
    "min_radius = 4\n",
    "max_radius = 10\n",
    "radius_range = max_radius - min_radius\n",
    "max_dist_from_ball = 20\n",
    "\n",
    "df_tracking['s_ratio'] = df_tracking['s'] / s_max\n",
    "df_tracking['x_next'] = df_tracking['x_std'] + df_tracking['v_x'] * delta_t\n",
    "df_tracking['y_next'] = df_tracking['y_std'] + df_tracking['v_y'] * delta_t\n",
    "df_tracking['radius_of_influence'] = min_radius + np.power(df_tracking['dist_to_bc'],3) * radius_range / max_dist_from_ball\n",
    "df_tracking['radius_of_influence'] = np.where(df_tracking['radius_of_influence'] > max_radius, max_radius, df_tracking['radius_of_influence'])"
   ]
  },
  {
   "cell_type": "code",
   "execution_count": null,
   "metadata": {},
   "outputs": [],
   "source": [
    "df_tracking_bcradius = df_tracking[(df_tracking['x_std'] >= df_tracking['bc_xr_min']) &\n",
    "                                   (df_tracking['x_std'] <= df_tracking['bc_xr_max']) &\n",
    "                                   (df_tracking['y_std'] >= df_tracking['bc_yr_min']) &\n",
    "                                   (df_tracking['y_std'] <= df_tracking['bc_yr_max'])]"
   ]
  },
  {
   "cell_type": "code",
   "execution_count": null,
   "metadata": {},
   "outputs": [],
   "source": [
    "#df_tracking.loc[:, ['frameId', 'nflId', 'x_std', 'y_std', 'x_std_bc', 'y_std_bc', 's', 'v_theta', 'v_x', 'v_y', 's_ratio', 'x_next', 'y_next', 'radius_of_influence']]"
   ]
  },
  {
   "cell_type": "code",
   "execution_count": null,
   "metadata": {},
   "outputs": [],
   "source": [
    "df_field_grid = create_field_grid()"
   ]
  },
  {
   "cell_type": "code",
   "execution_count": null,
   "metadata": {},
   "outputs": [],
   "source": [
    "df_bcradius_noball = df_tracking_bcradius[df_tracking_bcradius['nflId'].notnull()].reset_index(drop=True)\n",
    "\n",
    "df_precontrol_ids = df_bcradius_noball.loc[:,['gameId', 'playId', 'frameId', 'nflId', 'club']]\n",
    "df_precontrol_values = df_bcradius_noball.loc[:,['x_next', 'y_next', 'v_theta', 'radius_of_influence', 's_ratio'] + bc_radius_cols]"
   ]
  },
  {
   "cell_type": "code",
   "execution_count": null,
   "metadata": {},
   "outputs": [],
   "source": [
    "player_frame_influences = []\n",
    "#df_control = pd.DataFrame()\n",
    "\n",
    "for index, row in df_precontrol_values.iterrows():\n",
    "    #print(index)\n",
    "    xmin = row['bc_xr_min']\n",
    "    xmax = row['bc_xr_max']\n",
    "    ymin = row['bc_yr_min']\n",
    "    ymax = row['bc_yr_max']\n",
    "\n",
    "    row_field_grid = df_field_grid[(df_field_grid['x'] >= xmin) &\n",
    "                                   (df_field_grid['x'] <= xmax) &\n",
    "                                   (df_field_grid['y'] >= ymin) &\n",
    "                                   (df_field_grid['y'] <= ymax)]\n",
    "\n",
    "\n",
    "    row_influence = compute_player_zoi(row, row_field_grid)\n",
    "    player_frame_influences.append(row_influence)\n",
    "\n",
    "    #df_influence = compute_player_zoi(row)\n",
    "    #df_control = pd.concat([df_control, df_influence])\n",
    "\n"
   ]
  },
  {
   "cell_type": "code",
   "execution_count": null,
   "metadata": {},
   "outputs": [],
   "source": [
    "influence_means = [sum(x)/len(x) for x in player_frame_influences]\n",
    "df_precontrol_ids['influence'] = influence_means"
   ]
  },
  {
   "cell_type": "code",
   "execution_count": null,
   "metadata": {},
   "outputs": [],
   "source": [
    "# precontrol_len = len(df_precontrol_ids.index)\n",
    "# fieldgrid_len = len(df_field_grid.index)\n",
    "\n",
    "# filler_influence = np.full(shape = (precontrol_len, fieldgrid_len), fill_value=0.5)\n",
    "\n",
    "# filler_influence = filler_influence.tolist()\n",
    "\n",
    "# df_precontrol_ids['influence'] = filler_influence"
   ]
  },
  {
   "cell_type": "code",
   "execution_count": null,
   "metadata": {},
   "outputs": [],
   "source": [
    "df_control = df_precontrol_ids.merge(df_games.loc[:,['gameId', 'homeTeamAbbr']], on = 'gameId')\n",
    "df_control['team_influence'] = np.where(df_control['club'] == df_control['homeTeamAbbr'], -1 * df_control['influence'], df_control['influence'])\n",
    "\n",
    "# df_teamcontrol = df_teamcontrol.groupby(['gameId', 'playId', 'frameId', 'club', 'x', 'y']).agg({'influence' : 'sum'}).reset_index().rename(columns={'influence' : 'control'})\n",
    "# df_teamcontrol['control'] = 1 / (1 + np.exp(df_control_agg['control']))\n",
    "# scale_column_to_100(dataframe = df_control_agg, column_name = 'influence')"
   ]
  },
  {
   "cell_type": "code",
   "execution_count": null,
   "metadata": {},
   "outputs": [],
   "source": [
    "df_control.to_parquet(processed_data_path / 'control.parquet', engine='fastparquet')"
   ]
  },
  {
   "cell_type": "markdown",
   "metadata": {},
   "source": [
    "# Block Sheds"
   ]
  },
  {
   "cell_type": "code",
   "execution_count": null,
   "metadata": {},
   "outputs": [],
   "source": [
    "# # Calculate the point where a blocker projects onto a defender's path to the ball carrier\n",
    "# target = (1,6)\n",
    "# defender = (3,10)\n",
    "# blocker = (4,7)\n",
    "\n",
    "# line_to_target = line_equation(defender, target)\n",
    "\n",
    "# blocker_projection = perpendicular_projection(blocker, line_to_target)\n",
    "\n",
    "\n",
    "# # Determine if an offensive player is a potential blocker\n",
    "# x, y = 37, 16\n",
    "# xd = 7\n",
    "# yd = 3\n",
    "# facing_angle = 200  # in degrees\n",
    "# maxX = 120\n",
    "# maxY = 53.3\n",
    "# minX = 0\n",
    "# minY = 0\n",
    "\n",
    "\n",
    "# # Calculate potential blocker region for a defender based on their orientation angle\n",
    "# triangle_points = project_triangle(x, y, facing_angle, xd, yd, maxX, maxY, minX, minY)\n",
    "\n",
    "# print(triangle_points)\n",
    "\n",
    "# point_to_check = (32, 15)\n",
    "\n",
    "# is_point_in_triangle(point_to_check, *triangle_points)"
   ]
  },
  {
   "cell_type": "code",
   "execution_count": null,
   "metadata": {},
   "outputs": [],
   "source": [
    "block_radius = 1\n",
    "\n",
    "df_potential_blocks = df_dists_long[(df_dists_long['side']=='defense') & (df_dists_long['dist']<=block_radius)].loc[:, playerframe_cols + ['position', 'x_position', 'x_pos_unique', 'dist']].reset_index(drop=True)"
   ]
  },
  {
   "cell_type": "code",
   "execution_count": null,
   "metadata": {},
   "outputs": [],
   "source": [
    "df_potential_blockers = df_dists.loc[:, playerframe_cols+['pos_unique', 'x_std', 'y_std']].rename(columns={'pos_unique' : 'x_pos_unique', 'nflId' : 'x_nflId'})"
   ]
  },
  {
   "cell_type": "code",
   "execution_count": null,
   "metadata": {},
   "outputs": [],
   "source": [
    "# join id and x/y of potential blocker\n",
    "df_potential_blocks = df_potential_blocks.merge(df_potential_blockers, on = ['gameId', 'playId', 'frameId', 'x_pos_unique'], suffixes = ('', '_x'))"
   ]
  },
  {
   "cell_type": "code",
   "execution_count": null,
   "metadata": {},
   "outputs": [],
   "source": [
    "# join x,y,o of defender\n",
    "df_potential_blocks = df_potential_blocks.merge(df_tracking.loc[:, playerframe_cols+['x_std', 'y_std', 'o_std']], on = playerframe_cols, suffixes = ('_x', ''))"
   ]
  },
  {
   "cell_type": "code",
   "execution_count": null,
   "metadata": {},
   "outputs": [],
   "source": [
    "#join o of blocker\n",
    "df_potential_blocks = df_potential_blocks.merge(df_tracking.loc[:, playerframe_cols+['o_std']].rename(columns={'nflId':'x_nflId'}), on = fid_cols+['x_nflId'], suffixes = ('', '_x'))"
   ]
  },
  {
   "cell_type": "code",
   "execution_count": null,
   "metadata": {},
   "outputs": [],
   "source": [
    "df_potential_blocks = calc_angle_diff(input_df = df_potential_blocks, \n",
    "                              xc = 'x_std', \n",
    "                              yc = 'y_std', \n",
    "                              anglec = 'o_std', \n",
    "                              xc_ref = 'x_std_x', \n",
    "                              yc_ref = 'y_std_x', \n",
    "                              new_name_suffix = 'blocker')"
   ]
  },
  {
   "cell_type": "code",
   "execution_count": null,
   "metadata": {},
   "outputs": [],
   "source": [
    "df_potential_blocks = df_potential_blocks.drop(['x_dist_to_blocker', 'y_dist_to_blocker', 'dist_to_blocker'],axis=1)"
   ]
  },
  {
   "cell_type": "code",
   "execution_count": null,
   "metadata": {},
   "outputs": [],
   "source": [
    "df_potential_blocks = calc_angle_diff(input_df = df_potential_blocks, \n",
    "                              xc = 'x_std_x', \n",
    "                              yc = 'y_std_x', \n",
    "                              anglec = 'o_std_x', \n",
    "                              xc_ref = 'x_std', \n",
    "                              yc_ref = 'y_std', \n",
    "                              new_name_suffix = 'defender')"
   ]
  },
  {
   "cell_type": "code",
   "execution_count": null,
   "metadata": {},
   "outputs": [],
   "source": [
    "df_potential_blocks = df_potential_blocks.drop(['x_dist_to_defender', 'y_dist_to_defender', 'dist_to_defender'],axis=1)"
   ]
  },
  {
   "cell_type": "code",
   "execution_count": null,
   "metadata": {},
   "outputs": [],
   "source": [
    "df_potential_blocks.to_parquet(processed_data_path / 'potential_blocks.parquet', engine='fastparquet')"
   ]
  },
  {
   "cell_type": "markdown",
   "metadata": {},
   "source": [
    "# CHECKPOINT"
   ]
  },
  {
   "cell_type": "code",
   "execution_count": null,
   "metadata": {},
   "outputs": [],
   "source": [
    "end_time = time.time()\n",
    "elapsed_time = end_time - start_time\n",
    "\n",
    "print(f\"Processing time: {elapsed_time} seconds\")"
   ]
  },
  {
   "cell_type": "code",
   "execution_count": null,
   "metadata": {},
   "outputs": [],
   "source": []
  },
  {
   "cell_type": "markdown",
   "metadata": {},
   "source": [
    "# Play Animation"
   ]
  },
  {
   "cell_type": "code",
   "execution_count": null,
   "metadata": {},
   "outputs": [],
   "source": [
    "df_control_1frame = df_control_agg[(df_control_agg['frameId']==75)]# & (df_control_agg['club']=='PIT')]\n",
    "\n",
    "from plotnine import ggplot, geom_raster, scale_fill_gradient2, aes\n",
    "\n",
    "# Assuming df_colors and game_ are already defined in your Python script\n",
    "\n",
    "away_team = 'BUF'\n",
    "away_color = 'blue'\n",
    "\n",
    "home_team = 'PIT'\n",
    "home_color = 'black'\n",
    "\n",
    "\n",
    "play_frames = (\n",
    "    ggplot()\n",
    "    + geom_raster(\n",
    "        data=df_control_1frame,\n",
    "        mapping=aes(x='x', y='y', fill='control'),\n",
    "        alpha=0.7,\n",
    "        interpolate=True\n",
    "    )\n",
    "    + scale_fill_gradient2(\n",
    "        #low=df_colors['away_1'],\n",
    "        #high=df_colors['home_1'],\n",
    "        low= away_color,\n",
    "        high= home_color,\n",
    "        mid=\"white\",\n",
    "        midpoint=0.5,\n",
    "        name=\"Team Field Control\",\n",
    "        limits=[0, 1],\n",
    "        breaks=[0, 1],\n",
    "        #labels=[game_['visitorTeamAbbr'], game_['homeTeamAbbr']]\n",
    "        labels=[away_team, home_team]\n",
    "    )\n",
    ")\n",
    "\n",
    "# You can then show the plot using play_frames\n",
    "print(play_frames)\n"
   ]
  },
  {
   "cell_type": "code",
   "execution_count": null,
   "metadata": {},
   "outputs": [],
   "source": [
    "# Plotting\n",
    "triangle_points_plot = [(37,16)]+triangle_points\n",
    "\n",
    "points_x, points_y = zip(*triangle_points_plot + [triangle_points_plot[0]])  # Close the triangle\n",
    "\n",
    "plt.plot(points_x, points_y, marker='o', linestyle='-', color='b', label='Projected Triangle')\n",
    "plt.scatter(32,15)"
   ]
  },
  {
   "cell_type": "code",
   "execution_count": null,
   "metadata": {},
   "outputs": [],
   "source": [
    "ex_game_play_id = '2022100913_172'\n",
    "#ex_game_play_id = '2022100913_55'\n",
    "ex_game_play_id = str(ex_gameId) + '_' + str(ex_playId)"
   ]
  },
  {
   "cell_type": "code",
   "execution_count": null,
   "metadata": {},
   "outputs": [],
   "source": [
    "animate_tracking_data(tracking_df = df_tracking, \n",
    "                      id_game_play = ex_game_play_id,\n",
    "                      x_col = 'x_std',\n",
    "                      y_col = 'y_std',\n",
    "                      dir_col = 'dir_std',\n",
    "                      dir_arrow_metric = 's',\n",
    "                      o_col = 'o_std')"
   ]
  }
 ],
 "metadata": {
  "kernelspec": {
   "display_name": "Python 3",
   "language": "python",
   "name": "python3"
  },
  "language_info": {
   "codemirror_mode": {
    "name": "ipython",
    "version": 3
   },
   "file_extension": ".py",
   "mimetype": "text/x-python",
   "name": "python",
   "nbconvert_exporter": "python",
   "pygments_lexer": "ipython3",
   "version": "3.11.6"
  }
 },
 "nbformat": 4,
 "nbformat_minor": 2
}
