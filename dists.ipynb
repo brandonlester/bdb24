{
 "cells": [
  {
   "cell_type": "code",
   "execution_count": null,
   "metadata": {},
   "outputs": [],
   "source": [
    "import os\n",
    "from pathlib import Path\n",
    "import pandas as pd\n",
    "import numpy as np\n",
    "import matplotlib.pyplot as plt\n",
    "import seaborn as sns\n",
    "from scipy.spatial.distance import cdist"
   ]
  },
  {
   "cell_type": "code",
   "execution_count": null,
   "metadata": {},
   "outputs": [],
   "source": [
    "main_dir = Path(os.getcwd())\n",
    "data_path = main_dir / \"data\""
   ]
  },
  {
   "cell_type": "code",
   "execution_count": null,
   "metadata": {},
   "outputs": [],
   "source": [
    "players = pd.read_csv(f'{data_path}/players.csv')\n",
    "games = pd.read_csv(f'{data_path}/games.csv')\n",
    "tackles = pd.read_csv(f'{data_path}/tackles.csv')\n",
    "plays = pd.read_csv(f'{data_path}/plays.csv')\n",
    "tracking = pd.read_csv(f'{data_path}/tracking_week_1.csv')"
   ]
  },
  {
   "cell_type": "code",
   "execution_count": null,
   "metadata": {},
   "outputs": [],
   "source": [
    "tracking = tracking.merge(players.loc[:, ['nflId', 'position']], how='left')\n",
    "\n",
    "def calc_dist_1frame(frame):\n",
    "    # make unique positions, as to not duplicate columns based on player position\n",
    "    frame['pos_unique'] = (frame['position']\n",
    "                        .add(frame\n",
    "                            .groupby('position', as_index=False)\n",
    "                            .cumcount()\n",
    "                            .add(1)\n",
    "                            .dropna()\n",
    "                            .astype(str)\n",
    "                            .str.replace('.0','', regex=False)\n",
    "                            .str.replace('0','', regex=False)))\n",
    "\n",
    "    # calc distances \n",
    "    _df = (pd\n",
    "        .DataFrame(cdist(frame.loc[:, ['x', 'y']], \n",
    "                        frame.loc[:, ['x', 'y']]), \n",
    "                    index=frame['nflId'], \n",
    "                    columns=frame['pos_unique'].fillna('football')))\n",
    "\n",
    "    # reset index to pop out nflId into its own column\n",
    "    _df = _df.reset_index()\n",
    "\n",
    "    # merge new distance values onto original dataframe\n",
    "    frame = frame.merge(_df)\n",
    "\n",
    "    return frame\n",
    "\n",
    "def calc_dist_1play(play):\n",
    "\n",
    "    df_all_frames = pd.DataFrame()\n",
    "\n",
    "    for fid in play['frameId'].unique():\n",
    "\n",
    "        df_frame = play.loc[play['frameId']==fid].copy()\n",
    "\n",
    "        df_frame_dists = calc_dist_1frame(df_frame)\n",
    "\n",
    "        # concatenate new results into the output dataframe \n",
    "        df_all_frames = pd.concat([df_all_frames, df_frame_dists])\n",
    "\n",
    "    return df_all_frames"
   ]
  },
  {
   "cell_type": "code",
   "execution_count": null,
   "metadata": {},
   "outputs": [],
   "source": [
    "play = tracking[(tracking[\"gameId\"] == 2022090800) & (tracking[\"playId\"] == 56)]\n",
    "\n",
    "play_dists = calc_dist_1play(play)"
   ]
  },
  {
   "cell_type": "code",
   "execution_count": null,
   "metadata": {},
   "outputs": [],
   "source": [
    "game = tracking[(tracking[\"gameId\"] == 2022090800)]\n",
    "\n",
    "df_all_plays = pd.DataFrame()\n",
    "\n",
    "for pid in game[\"playId\"].unique():\n",
    "\n",
    "    df_play = game.loc[game['playId']==pid].copy()\n",
    "\n",
    "    df_play_dists = calc_dist_1play(df_play)\n",
    "\n",
    "    df_all_plays = pd.concat([df_all_plays, df_play_dists])\n",
    "\n",
    "df_all_plays.head()"
   ]
  },
  {
   "cell_type": "code",
   "execution_count": null,
   "metadata": {},
   "outputs": [],
   "source": [
    "print(df_all_plays.dtypes)"
   ]
  },
  {
   "cell_type": "code",
   "execution_count": null,
   "metadata": {},
   "outputs": [],
   "source": [
    "df_all_plays.columns"
   ]
  },
  {
   "cell_type": "code",
   "execution_count": null,
   "metadata": {},
   "outputs": [],
   "source": [
    "pos_start = list(df_all_plays.columns).index(\"pos_unique\") + 1"
   ]
  },
  {
   "cell_type": "code",
   "execution_count": null,
   "metadata": {},
   "outputs": [],
   "source": [
    "positions = df_all_plays.columns[pos_start:]"
   ]
  },
  {
   "cell_type": "code",
   "execution_count": null,
   "metadata": {},
   "outputs": [],
   "source": [
    "df_all_plays.dtypes"
   ]
  }
 ],
 "metadata": {
  "kernelspec": {
   "display_name": "Python 3",
   "language": "python",
   "name": "python3"
  },
  "language_info": {
   "codemirror_mode": {
    "name": "ipython",
    "version": 3
   },
   "file_extension": ".py",
   "mimetype": "text/x-python",
   "name": "python",
   "nbconvert_exporter": "python",
   "pygments_lexer": "ipython3",
   "version": "3.11.6"
  }
 },
 "nbformat": 4,
 "nbformat_minor": 2
}
