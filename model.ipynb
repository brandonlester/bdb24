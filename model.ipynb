{
 "cells": [
  {
   "cell_type": "markdown",
   "metadata": {},
   "source": [
    "# Setup"
   ]
  },
  {
   "cell_type": "code",
   "execution_count": null,
   "metadata": {},
   "outputs": [],
   "source": [
    "import os\n",
    "from pathlib import Path\n",
    "import numpy as np\n",
    "import pandas as pd\n",
    "import xgboost as xgb\n",
    "from sklearn.metrics import brier_score_loss\n",
    "from sklearn.model_selection import GroupKFold"
   ]
  },
  {
   "cell_type": "code",
   "execution_count": null,
   "metadata": {},
   "outputs": [],
   "source": [
    "main_dir = Path(os.getcwd())\n",
    "data_path = main_dir / \"data\"\n",
    "processed_data_path = data_path / 'processed'"
   ]
  },
  {
   "cell_type": "code",
   "execution_count": null,
   "metadata": {},
   "outputs": [],
   "source": [
    "fid_cols = ['gameId', 'playId', 'frameId']\n",
    "playerframe_cols = fid_cols + ['nflId']"
   ]
  },
  {
   "cell_type": "code",
   "execution_count": null,
   "metadata": {},
   "outputs": [],
   "source": [
    "df_data = pd.read_parquet(processed_data_path / 'defenders_to_model.parquet')\n",
    "df_games = pd.read_csv(data_path / 'games.csv')\n",
    "df_data = df_data.merge(df_games.loc[:, ['gameId', 'week']], on = 'gameId')\n",
    "df_data = df_data.drop('blockers', axis=1)"
   ]
  },
  {
   "cell_type": "code",
   "execution_count": null,
   "metadata": {},
   "outputs": [],
   "source": [
    "# # Filter to 3 games in week 1\n",
    "# games = df_data[df_data['week']==1].gameId.unique()[:3]\n",
    "# df_data = df_data[df_data['gameId'].isin(games)]"
   ]
  },
  {
   "cell_type": "code",
   "execution_count": null,
   "metadata": {},
   "outputs": [],
   "source": [
    "target = 'xtackle'\n",
    "\n",
    "features = ['s',\n",
    " 'a',\n",
    " 's_bc',\n",
    " 'a_bc',\n",
    " 'dist_to_bc',\n",
    " 'o_to_bc',\n",
    " 'dir_to_bc',\n",
    " 'influence',\n",
    " 'x1',\n",
    " 'x10',\n",
    " 'x11',\n",
    " 'x2',\n",
    " 'x3',\n",
    " 'x4',\n",
    " 'x5',\n",
    " 'x6',\n",
    " 'x7',\n",
    " 'x8',\n",
    " 'x9',\n",
    " 'y1',\n",
    " 'y10',\n",
    " 'y2',\n",
    " 'y3',\n",
    " 'y4',\n",
    " 'y5',\n",
    " 'y6',\n",
    " 'y7',\n",
    " 'y8',\n",
    " 'y9',\n",
    " 'in_block']"
   ]
  },
  {
   "cell_type": "code",
   "execution_count": null,
   "metadata": {},
   "outputs": [],
   "source": [
    "model_data = df_data.dropna(subset=features+[target]).reset_index(drop=True)"
   ]
  },
  {
   "cell_type": "code",
   "execution_count": null,
   "metadata": {},
   "outputs": [],
   "source": [
    "folds = model_data['gameId'].unique().shape[0]\n",
    "kf = GroupKFold(folds)\n",
    "s = pd.Series()\n",
    "\n",
    "kf_split = kf.split(model_data, groups=model_data['gameId'])"
   ]
  },
  {
   "cell_type": "code",
   "execution_count": null,
   "metadata": {},
   "outputs": [],
   "source": [
    "for train_idx, test_idx in kf_split:\n",
    "    \n",
    "  test = model_data.iloc[test_idx]\n",
    "  train = model_data.iloc[train_idx]\n",
    "\n",
    "  xtrain = xgb.DMatrix(train.loc[:, features], train[target])\n",
    "  xtest = xgb.DMatrix(test.loc[:, features], test[target])\n",
    "\n",
    "  p = {\n",
    "    'objective':'binary:logistic',\n",
    "    'eta':0.3,\n",
    "    'reg_lambda':1,\n",
    "    'scale_pos_weight':1,\n",
    "  }\n",
    "\n",
    "  model = xgb.train(p, xtrain)\n",
    "  _s = pd.Series(model.predict(xtest), index=test.index)\n",
    "  s = pd.concat([s,_s])"
   ]
  },
  {
   "cell_type": "code",
   "execution_count": null,
   "metadata": {},
   "outputs": [],
   "source": [
    "model_data[f'{target}_xgb'] = s"
   ]
  },
  {
   "cell_type": "markdown",
   "metadata": {},
   "source": [
    "# Eval"
   ]
  },
  {
   "cell_type": "code",
   "execution_count": null,
   "metadata": {},
   "outputs": [],
   "source": [
    "model_data.groupby('xtackle').agg({'nflId' : 'count', 'xtackle_xgb' : 'mean'}).reset_index()"
   ]
  },
  {
   "cell_type": "code",
   "execution_count": null,
   "metadata": {},
   "outputs": [],
   "source": [
    "brier_score_loss(y_true = model_data['xtackle'], y_prob = model_data['xtackle_xgb'])"
   ]
  },
  {
   "cell_type": "code",
   "execution_count": null,
   "metadata": {},
   "outputs": [],
   "source": [
    "model_data.to_parquet(processed_data_path / 'model_results.parquet')"
   ]
  }
 ],
 "metadata": {
  "kernelspec": {
   "display_name": "Python 3",
   "language": "python",
   "name": "python3"
  },
  "language_info": {
   "codemirror_mode": {
    "name": "ipython",
    "version": 3
   },
   "file_extension": ".py",
   "mimetype": "text/x-python",
   "name": "python",
   "nbconvert_exporter": "python",
   "pygments_lexer": "ipython3",
   "version": "3.11.6"
  }
 },
 "nbformat": 4,
 "nbformat_minor": 2
}
