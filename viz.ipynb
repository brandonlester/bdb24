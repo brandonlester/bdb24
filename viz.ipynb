{
 "cells": [
  {
   "cell_type": "code",
   "execution_count": null,
   "metadata": {},
   "outputs": [],
   "source": [
    "import os\n",
    "from pathlib import Path\n",
    "import pandas as pd\n",
    "import numpy as np\n",
    "import matplotlib.pyplot as plt\n",
    "import seaborn as sns\n",
    "from scipy.spatial.distance import cdist\n",
    "from local_functions import *\n",
    "import math\n",
    "import re\n",
    "import time"
   ]
  },
  {
   "cell_type": "code",
   "execution_count": null,
   "metadata": {},
   "outputs": [],
   "source": [
    "main_dir = Path(os.getcwd())\n",
    "data_path = main_dir / \"data\"\n",
    "processed_data_path = data_path / 'processed'"
   ]
  },
  {
   "cell_type": "code",
   "execution_count": null,
   "metadata": {},
   "outputs": [],
   "source": [
    "fid_cols = ['gameId', 'playId', 'frameId']\n",
    "playerframe_cols = fid_cols + ['nflId']"
   ]
  },
  {
   "cell_type": "code",
   "execution_count": null,
   "metadata": {},
   "outputs": [],
   "source": [
    "df_tracking = pd.read_parquet(processed_data_path / 'tracking.parquet').reset_index(drop=True)\n",
    "df_model_results = pd.read_parquet(processed_data_path / 'model_results.parquet')"
   ]
  },
  {
   "cell_type": "code",
   "execution_count": null,
   "metadata": {},
   "outputs": [],
   "source": [
    "#create unique frame Id\n",
    "df_tracking['game_play_frame_id'] = df_tracking['gameId'].apply(str) + '_' + df_tracking['playId'].apply(str) + '_' + df_tracking['frameId'].apply(str)\n",
    "df_model_results['game_play_frame_id'] = df_model_results['gameId'].apply(str) + '_' + df_model_results['playId'].apply(str) + '_' + df_model_results['frameId'].apply(str)"
   ]
  },
  {
   "cell_type": "code",
   "execution_count": null,
   "metadata": {},
   "outputs": [],
   "source": [
    "# Filter tracking for frames that were modeled\n",
    "dft_modeljoin = df_tracking[df_tracking['game_play_frame_id'].isin(df_model_results['game_play_frame_id'])]\n",
    "\n",
    "# Filter for offensive players and football which weren't in model\n",
    "dft_modeljoin = dft_modeljoin[(dft_modeljoin['on_offense']) | (dft_modeljoin['nflId'].isnull())]"
   ]
  },
  {
   "cell_type": "code",
   "execution_count": null,
   "metadata": {},
   "outputs": [],
   "source": [
    "# Join tracking data points to model results required for play animation\n",
    "df_model_results_track = df_model_results.merge(df_tracking.loc[:, playerframe_cols+['x_std', 'y_std', 'o_std', 'dir_std', 'club', 'event', 'jerseyNumber', 'is_ballcarrier']], on = playerframe_cols)\n",
    "df_model_results_track = df_model_results_track.loc[:, playerframe_cols+['influence', 'in_block', 'xtackle', 'xtackle_xgb', 'x_std', 'y_std', 's', 'o_std', 'dir_std', 'club', 'event', 'jerseyNumber', 'is_ballcarrier']]"
   ]
  },
  {
   "cell_type": "code",
   "execution_count": null,
   "metadata": {},
   "outputs": [],
   "source": [
    "# In filtered tracking data, select only required/matching columns to concat onto model results for play animation\n",
    "dft_modeljoin = dft_modeljoin.loc[:, playerframe_cols+['x_std', 'y_std', 'o_std', 'dir_std', 's', 'club', 'event', 'jerseyNumber', 'is_ballcarrier']].reset_index(drop=True)"
   ]
  },
  {
   "cell_type": "code",
   "execution_count": null,
   "metadata": {},
   "outputs": [],
   "source": [
    "df_tracking_with_results = pd.concat([dft_modeljoin, df_model_results_track]).reset_index(drop=True)\n",
    "df_tracking_with_results['game_play_id'] = df_tracking_with_results['gameId'].apply(str) + '_' + df_tracking_with_results['playId'].apply(str)"
   ]
  },
  {
   "cell_type": "code",
   "execution_count": null,
   "metadata": {},
   "outputs": [],
   "source": [
    "#example_play = df_tracking_with_results.sort_values('xtackle_xgb', ascending=False).loc[:,'game_play_id'].iloc[1]\n",
    "example_play = df_tracking_with_results.game_play_id.sample(1).iloc[0]"
   ]
  },
  {
   "cell_type": "code",
   "execution_count": null,
   "metadata": {},
   "outputs": [],
   "source": [
    "df_tracking_with_results['side_of_ball'] = np.where(df_tracking_with_results['nflId'].isnull(), \n",
    "                                                    'football', \n",
    "                                                    np.where(df_tracking_with_results['xtackle_xgb'].isnull(), 'offense', 'defense'))"
   ]
  },
  {
   "cell_type": "code",
   "execution_count": null,
   "metadata": {},
   "outputs": [],
   "source": [
    "df_tracking_with_results['xtackle_xgb'] = df_tracking_with_results['xtackle_xgb'].fillna(0)"
   ]
  },
  {
   "cell_type": "code",
   "execution_count": null,
   "metadata": {},
   "outputs": [],
   "source": [
    "example_play = '2022091101_2501' # toss left"
   ]
  },
  {
   "cell_type": "code",
   "execution_count": null,
   "metadata": {},
   "outputs": [],
   "source": [
    "animate_tracking_data(tracking_df = df_tracking_with_results, \n",
    "                      id_game_play = example_play,\n",
    "                      x_col = 'x_std',\n",
    "                      y_col = 'y_std',\n",
    "                      dir_col = 'dir_std',\n",
    "                      dir_arrow_metric = 's',\n",
    "                      o_col = 'o_std')"
   ]
  },
  {
   "cell_type": "code",
   "execution_count": null,
   "metadata": {},
   "outputs": [],
   "source": [
    "example_frame = df_tracking_with_results[(df_tracking_with_results['game_play_id'] == example_play) & (df_tracking_with_results['frameId'] == 1)]"
   ]
  },
  {
   "cell_type": "code",
   "execution_count": null,
   "metadata": {},
   "outputs": [],
   "source": [
    "example_frame"
   ]
  },
  {
   "cell_type": "code",
   "execution_count": null,
   "metadata": {},
   "outputs": [],
   "source": [
    "def animate_tracking_data_probabilities(tracking_df, id_game_play, x_col, y_col, dir_col, dir_arrow_metric, o_col):\n",
    "\n",
    "    import numpy as np\n",
    "    import pandas as pd\n",
    "    import matplotlib.pyplot as plt\n",
    "    from matplotlib.animation import FuncAnimation\n",
    "    from IPython.display import display, HTML\n",
    "    import matplotlib.patches as patches\n",
    "    import math\n",
    "\n",
    "    n = tracking_df[tracking_df.game_play_id == id_game_play].frameId.max()\n",
    "\n",
    "    # Initialize the football field plot\n",
    "    fig, ax = create_football_field(return_fig=True)\n",
    "\n",
    "    max_x = tracking_df[tracking_df.game_play_id == id_game_play].x_std.max()\n",
    "    min_x = tracking_df[tracking_df.game_play_id == id_game_play].x_std.min()\n",
    "\n",
    "    ax.set_xlim(min_x-5,max_x+5)\n",
    "\n",
    "    # # Get unique club names and assign colors\n",
    "    # clubs = tracking_df[(tracking_df.game_play_id == id_game_play) & (tracking_df['club'] != 'football')]['club'].unique()\n",
    "    # print(clubs)\n",
    "    # club_colors = {clubs[0]: 'orange', clubs[1]: 'lightblue', 'football': 'brown'}\n",
    "\n",
    "    dots = []\n",
    "    texts = []  # To store jersey number text elements\n",
    "    dir_arrows = []\n",
    "    o_arrows = []\n",
    "\n",
    "    # # Initialize the scatter plot for each club.\n",
    "    # scatters = {}\n",
    "    # for sob in tracking_df.side_of_ball.unique():\n",
    "    #     if sob == \"football\":\n",
    "    #         scatters[sob] = ax.scatter([], [], label=sob, s=80, color='brown', lw=1, edgecolors=\"black\", zorder=5)\n",
    "    #     elif sob == 'offense':\n",
    "    #         scatters[sob] = ax.scatter([], [], label=sob, s=170, color='grey', lw=1, edgecolors=\"black\", zorder=5)\n",
    "    #     else:\n",
    "    #         scatters[sob] = ax.scatter([], [], label=sob, s=170, color='white', lw=1, edgecolors=\"black\", zorder=5)\n",
    "            \n",
    "    #ax.legend().remove()\n",
    "\n",
    "    def update(frame):\n",
    "        # Clear previous frame's texts\n",
    "\n",
    "        for dot in dots:\n",
    "            dot.remove()\n",
    "        dots.clear()\n",
    "\n",
    "        for text in texts:\n",
    "            text.remove()\n",
    "        texts.clear()\n",
    "\n",
    "        for arrow in dir_arrows:\n",
    "            arrow.remove()\n",
    "        dir_arrows.clear()\n",
    "\n",
    "        for arrow in o_arrows:\n",
    "            arrow.remove()\n",
    "        o_arrows.clear()\n",
    "        \n",
    "\n",
    "        frame_data = tracking_df[(tracking_df.game_play_id == id_game_play) & (tracking_df.frameId == frame)]\n",
    "        # event_for_frame = frame_data['event'].iloc[0]  # Assuming each frame has consistent event data\n",
    "\n",
    "        # if pd.notna(event_for_frame):\n",
    "        #     ax.set_title(f\"Tracking data for {id_game_play}: at frame {frame}\\nEvent: {event_for_frame}\", fontsize=15)\n",
    "        # else:\n",
    "        #     ax.set_title(f\"Tracking data for {id_game_play}: at frame {frame}\", fontsize=15)\n",
    "\n",
    "        for sob, d in frame_data.groupby('side_of_ball'):\n",
    "            # scatters[sob].set_offsets(np.c_[d[x_col].values, d[y_col].values])\n",
    "            # if sob == 'football':\n",
    "            #     scatters[sob].set_color('brown')\n",
    "            # elif sob == 'offense':\n",
    "            #     scatters[sob].set_color('grey')\n",
    "            # else:\n",
    "            #     scatters[sob].set_color(d['xtackle_xgb'])\n",
    "\n",
    "            # scatters[sob].set_edgecolors(\"black\")  # Explicitly setting the edge color\n",
    "            \n",
    "            if sob=='football':\n",
    "                dot = ax.scatter(d[x_col], d[y_col], c = 'brown', s = 80, edgecolors=\"black\")\n",
    "                dots.append(dot)\n",
    "                \n",
    "            elif sob=='offense':\n",
    "                dot = ax.scatter(d[x_col], d[y_col], c = ['blue' if value == 1 else 'lightblue' for value in d['is_ballcarrier']], \n",
    "                                 s = 170, edgecolors=\"black\")\n",
    "                dots.append(dot)\n",
    "            else:\n",
    "                dot = ax.scatter(d[x_col], d[y_col], c = d['xtackle_xgb'], cmap='Oranges', s = 170, edgecolors=\"black\")\n",
    "                dot.set_clim([0,1])\n",
    "                dots.append(dot)\n",
    "\n",
    "\n",
    "            # Display jersey numbers if it's not the football\n",
    "            if sob != \"football\":                    \n",
    "                \n",
    "                for _, row in d.iterrows():\n",
    "                    try:\n",
    "\n",
    "                        text = ax.text(row[x_col], row[y_col], str(int(row[\"jerseyNumber\"])), \n",
    "                                   fontsize=8, ha='center', va='center', color=\"black\", fontweight='bold', zorder=6)\n",
    "                        texts.append(text)\n",
    "\n",
    "                        #direction arrows\n",
    "                        dir_angle = math.radians(90-row[dir_col])\n",
    "\n",
    "                        dir_dx = row[dir_arrow_metric] * 0.75 * math.cos(dir_angle)\n",
    "                        dir_dy = row[dir_arrow_metric] * 0.75 * math.sin(dir_angle)\n",
    "\n",
    "                        dir_arrow = ax.quiver(row[x_col], row[y_col], dir_dx, dir_dy, angles='xy', scale_units='xy', width = 0.004, scale=1, alpha=0.5, color = 'orange')\n",
    "                        dir_arrows.append(dir_arrow)\n",
    "\n",
    "                        #orientation arrows\n",
    "                        o_angle = math.radians(90-row[o_col])\n",
    "\n",
    "                        o_dx = 0.75 * math.cos(o_angle)\n",
    "                        o_dy = 0.75 * math.sin(o_angle)\n",
    "\n",
    "                        o_arrow = ax.quiver(row[x_col], row[y_col], o_dx, o_dy, angles='xy', scale_units='xy', width = 0.0088, scale=1, alpha=0.5, color = 'blue')\n",
    "                        o_arrows.append(o_arrow)\n",
    "                        \n",
    "                    except ValueError:\n",
    "                        continue\n",
    "\n",
    "    ani = FuncAnimation(fig, update, frames=range(1, n+1), repeat=True, interval=200)\n",
    "    ani.save('figs/animation_'+example_play+'.gif', writer='pillow', fps=10)\n",
    "\n",
    "    plt.close(ani._fig)\n",
    "\n",
    "    # Display the animation in the notebook\n",
    "    return HTML(ani.to_jshtml())"
   ]
  },
  {
   "cell_type": "code",
   "execution_count": null,
   "metadata": {},
   "outputs": [],
   "source": [
    "animate_tracking_data_probabilities(tracking_df = df_tracking_with_results, \n",
    "                      id_game_play = example_play,\n",
    "                      x_col = 'x_std',\n",
    "                      y_col = 'y_std',\n",
    "                      dir_col = 'dir_std',\n",
    "                      dir_arrow_metric = 's',\n",
    "                      o_col = 'o_std')"
   ]
  },
  {
   "cell_type": "code",
   "execution_count": null,
   "metadata": {},
   "outputs": [],
   "source": [
    "df_block_wresults = df_model_results[df_model_results['in_block']==1]#.groupby(playerframe_cols)"
   ]
  },
  {
   "cell_type": "code",
   "execution_count": null,
   "metadata": {},
   "outputs": [],
   "source": [
    "df_block_wresults = df_block_wresults.sort_values(['gameId', 'playId', 'nflId', 'frameId']).assign(last_frame=df_block_wresults.groupby(['gameId', 'playId', 'nflId'])['frameId'].shift(1))"
   ]
  },
  {
   "cell_type": "code",
   "execution_count": null,
   "metadata": {},
   "outputs": [],
   "source": [
    "df_block_wresults['new_block'] = np.where((df_block_wresults['last_frame'].notnull()) & (df_block_wresults['last_frame'] != df_block_wresults['frameId']-1), 1, 0)\n"
   ]
  },
  {
   "cell_type": "code",
   "execution_count": null,
   "metadata": {},
   "outputs": [],
   "source": [
    "df_block_wresults['new_block_counter'] = df_block_wresults.groupby(['gameId', 'playId', 'nflId'])['new_block'].cumsum()"
   ]
  },
  {
   "cell_type": "code",
   "execution_count": null,
   "metadata": {},
   "outputs": [],
   "source": [
    "def val_at_min_max(group, id_col, val_col):\n",
    "    min_id = group[id_col].idxmin()\n",
    "    max_id = group[id_col].idxmax()\n",
    "    return pd.Series({'val_at_min_id': group.loc[min_id, val_col], 'val_at_max_id': group.loc[max_id, val_col]})"
   ]
  },
  {
   "cell_type": "code",
   "execution_count": null,
   "metadata": {},
   "outputs": [],
   "source": [
    "df_block_shed = df_block_wresults.groupby(['gameId', 'playId', 'nflId', 'new_block_counter']).apply(val_at_min_max, id_col='frameId', val_col='xtackle_xgb').reset_index()"
   ]
  },
  {
   "cell_type": "code",
   "execution_count": null,
   "metadata": {},
   "outputs": [],
   "source": [
    "df_block_shed"
   ]
  },
  {
   "cell_type": "code",
   "execution_count": null,
   "metadata": {},
   "outputs": [],
   "source": [
    "df_block_shed['prob_change'] = df_block_shed['val_at_max_id'] - df_block_shed['val_at_min_id']"
   ]
  },
  {
   "cell_type": "code",
   "execution_count": null,
   "metadata": {},
   "outputs": [],
   "source": [
    "df_block_shed_agg = df_block_shed.groupby('nflId').agg({'playId' : 'count', 'prob_change' : 'sum'}).reset_index().rename(columns = {'playId' : 'blocks'})"
   ]
  },
  {
   "cell_type": "code",
   "execution_count": null,
   "metadata": {},
   "outputs": [],
   "source": [
    "df_block_shed_agg['avg_prob_change'] = df_block_shed_agg['prob_change'] / df_block_shed_agg['blocks']"
   ]
  },
  {
   "cell_type": "code",
   "execution_count": null,
   "metadata": {},
   "outputs": [],
   "source": [
    "df_players = pd.read_csv(f'{data_path}/players.csv')"
   ]
  },
  {
   "cell_type": "code",
   "execution_count": null,
   "metadata": {},
   "outputs": [],
   "source": [
    "df_players"
   ]
  },
  {
   "cell_type": "code",
   "execution_count": null,
   "metadata": {},
   "outputs": [],
   "source": [
    "df_block_shed_table = df_block_shed_agg.merge(df_players.loc[:,['nflId', 'displayName']], on = 'nflId')"
   ]
  },
  {
   "cell_type": "code",
   "execution_count": null,
   "metadata": {},
   "outputs": [],
   "source": [
    "df_block_shed_table.blocks.hist()"
   ]
  },
  {
   "cell_type": "code",
   "execution_count": null,
   "metadata": {},
   "outputs": [],
   "source": []
  },
  {
   "cell_type": "code",
   "execution_count": null,
   "metadata": {},
   "outputs": [],
   "source": [
    "df_block_shed_table = df_block_shed_table.sort_values('avg_prob_change', ascending=False).reset_index(drop=True)"
   ]
  },
  {
   "cell_type": "code",
   "execution_count": null,
   "metadata": {},
   "outputs": [],
   "source": [
    "df_block_shed_table.to_csv(processed_data_path / 'block_shed_agg.csv')"
   ]
  }
 ],
 "metadata": {
  "kernelspec": {
   "display_name": "Python 3",
   "language": "python",
   "name": "python3"
  },
  "language_info": {
   "codemirror_mode": {
    "name": "ipython",
    "version": 3
   },
   "file_extension": ".py",
   "mimetype": "text/x-python",
   "name": "python",
   "nbconvert_exporter": "python",
   "pygments_lexer": "ipython3",
   "version": "3.11.6"
  }
 },
 "nbformat": 4,
 "nbformat_minor": 2
}
